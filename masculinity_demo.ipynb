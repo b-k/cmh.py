{
 "cells": [
  {
   "cell_type": "markdown",
   "metadata": {},
   "source": [
    "# Using the Cochran-Mantel-Haenszel (CMH) statistic to learn about masculinity in America"
   ]
  },
  {
   "cell_type": "markdown",
   "metadata": {},
   "source": [
    "FiveThirtyEight, a web site about polling, sports, and statistics, worked with a few other parties to run a survey of men's relation to masculinity in the #meToo era. The discussion is here:\n",
    "https://fivethirtyeight.com/features/what-do-men-think-it-means-to-be-a-man/\n",
    "If you haven't read the article yet, or have questions about the data collection, you are encouraged to have a look now.\n",
    "\n",
    "The analysis is noticeably univariate: it mostly discusses each question responses in turn, without many cross-tabulations like \"How does the likelihood of self-perceived masculinity differ between married and single?\" This is not to fault the authors, who are writing a short article for generalists.\n",
    "\n",
    "But the staff at FiveThirtyEight have graciously and openly posted the data. So we can do further analysis including the above question, or whether men are more likely to pay on dates when they self-report as high-masculinity or when they want to be _perceived_ as masculine, or whether being heterosexual raises the chance of self-reporting as high-masculinity.\n",
    "\n",
    "This page supplements <a href=\"https://papers.ssrn.com/sol3/papers.cfm?abstract_id=3197362\">An Analysis of U.S. Domestic Migration via Subset-stable Measures of Administrative Data</a>, a paper analyzing 82 million moves made by members of the U.S. formal economy, 2001-2015.\n",
    "\n",
    "To properly do such an undertaking, the paper develops the Cochran-Mantel-Haenszel (CMH) statistic to answer questions about the relationship between factors. For example,\n",
    "\n",
    "Q: What is the likelihood of moving for married relative to singles?  \n",
    "A: Marrieds are less likely to move than singles.  \n",
    "Q: What if we control for having kids and a mortgage?  \n",
    "A: Marrieds are much more likely to move than singles.\n",
    "\n",
    "This page will:\n",
    "\n",
    "* Ask lots of intersting questions about the relationship between masculinity and other opinions and factors.\n",
    "* Introduce you to the CMH statistic and the Python CMH package.\n",
    "\n",
    "Let's get on with the analysis."
   ]
  },
  {
   "cell_type": "markdown",
   "metadata": {},
   "source": [
    "##  First, download the data and clean it a little.\n",
    "\n",
    "The next three cells provide the functions to do so, then run them to produce a Pandas data frame named `d`. This is standard data prep.\n",
    "\n",
    "Many of your questions about the survey questions may be answered by the full instrument itself, at https://github.com/fivethirtyeight/data/blob/master/masculinity-survey/masculinity-survey.pdf."
   ]
  },
  {
   "cell_type": "code",
   "execution_count": 1,
   "metadata": {},
   "outputs": [],
   "source": [
    "from urllib.request import urlopen\n",
    "import pandas as pd  \n",
    "                                            \n",
    "Data_URL = \"https://github.com/fivethirtyeight/data/blob/master/masculinity-survey/raw-responses.csv?raw=true\" \n",
    " \n",
    "def get_data():    \n",
    "    \"\"\"Download a copy of the survey if we don't already have it. Return a data frame with the observations.\"\"\"\n",
    "    try:\n",
    "        return pd.read_csv(open(\"survey.csv\", 'rb'))\n",
    "    except FileNotFoundError:                     \n",
    "        in_csv = urlopen(Data_URL).read().decode('utf-8')\n",
    "        f = open(\"survey.csv\", 'w')                      \n",
    "        for data in in_csv:                              \n",
    "            f.write(data)\n",
    "        return pd.read_csv(open(\"survey.csv\", 'rb'))"
   ]
  },
  {
   "cell_type": "code",
   "execution_count": 2,
   "metadata": {},
   "outputs": [],
   "source": [
    "def prep_data(d):\n",
    "    \"\"\"The columns have generic names; give them something more readable.\n",
    "       Then recode some of the codes to numeric values.\"\"\"\n",
    "    d.rename(columns= {\n",
    "        'q0001': 'masc_self_rate',        \n",
    "        'q0002': 'perception_importance', \n",
    "        'q0005': 'societal_pressure',\n",
    "        'q0010_0007': 'advantage_at_work',\n",
    "        'q0011_0004': 'disadvantage_at_work',\n",
    "        'q0018': 'pays_on_dates',         \n",
    "        'q0021': 'concerns_about_too_far',\n",
    "        'q0024': 'married',\n",
    "        'q0025': 'kids',  \n",
    "        'q0026': 'sexual_orientation',  \n",
    "        'q0027': 'age',   \n",
    "        'q0028': 'race',  \n",
    "        }, inplace = True)\n",
    "\n",
    "    \"\"\"Encode text values to numeric. For control variables this will not actually be necessary.\"\"\"\n",
    "    likert_λ = (lambda x:\n",
    "        1 if (x.startswith('Somewhat') or x.startswith('Very')) else \n",
    "        0 if (x.startswith('Not very') or x.startswith('Not at all'))\n",
    "        else -1)\n",
    "    none_λ = lambda x: 0 if str(x).startswith(\"None\") else 1\n",
    "    \n",
    "    \"\"\"Encode the masculinity self-rating, and listwise delete those that did not reply to this key question.\"\"\"\n",
    "    d.loc[:,\"masc_self_rate\"] = d[\"masc_self_rate\"].apply(likert_λ)\n",
    "    d.loc[:, \"perception_importance\"] = d[\"perception_importance\"].apply(likert_λ)\n",
    "    d = d.loc[d[\"masc_self_rate\"]>=0]\n",
    "    d = d.loc[d[\"perception_importance\"]>=0]\n",
    "\n",
    "    d.loc[:, \"advantage_at_work\"] = d[\"advantage_at_work\"].apply(none_λ)\n",
    "    d.loc[:, \"disadvantage_at_work\"] = d[\"disadvantage_at_work\"].apply(none_λ)\n",
    "    d.loc[:, \"sexual_orientation\"] = d[\"sexual_orientation\"].apply(lambda x: 0 if x == \"Straight\" else 1)\n",
    "    d.loc[:, \"married\"] = d[\"married\"].apply(lambda x: 1 if x == \"Married\" else 0)\n",
    "    d.loc[:, \"age3\"] = d[\"age3\"].apply(lambda x: 0 if x == \"18 - 34\" else 1 if x == \"35 - 64\" else 3)\n",
    "    return d"
   ]
  },
  {
   "cell_type": "code",
   "execution_count": 3,
   "metadata": {
    "scrolled": true
   },
   "outputs": [],
   "source": [
    "d = prep_data(get_data())"
   ]
  },
  {
   "cell_type": "markdown",
   "metadata": {},
   "source": [
    "## Now for some risk ratios\n",
    "\n",
    "Now that we have the data set, we can start asking about how variables relate.\n",
    "\n",
    "For example, how does being married relate to the chance of self-describing as \"somewhat\" or \"very\" masculine? The first way to answer this is a simple crosstab, as shown below. It is a survey with weighted results, so it is preferable to aggregate (`agg`) using the sum of weights, not simple observation counts.\n",
    "\n",
    "As per the encodings above, unmarried=0, married=1, self-report as high masculinity=1, not as 0."
   ]
  },
  {
   "cell_type": "code",
   "execution_count": 4,
   "metadata": {},
   "outputs": [
    {
     "data": {
      "text/html": [
       "<div>\n",
       "<style scoped>\n",
       "    .dataframe tbody tr th:only-of-type {\n",
       "        vertical-align: middle;\n",
       "    }\n",
       "\n",
       "    .dataframe tbody tr th {\n",
       "        vertical-align: top;\n",
       "    }\n",
       "\n",
       "    .dataframe thead th {\n",
       "        text-align: right;\n",
       "    }\n",
       "</style>\n",
       "<table border=\"1\" class=\"dataframe\">\n",
       "  <thead>\n",
       "    <tr style=\"text-align: right;\">\n",
       "      <th></th>\n",
       "      <th></th>\n",
       "      <th>weight</th>\n",
       "    </tr>\n",
       "    <tr>\n",
       "      <th>married</th>\n",
       "      <th>masc_self_rate</th>\n",
       "      <th></th>\n",
       "    </tr>\n",
       "  </thead>\n",
       "  <tbody>\n",
       "    <tr>\n",
       "      <th rowspan=\"2\" valign=\"top\">0</th>\n",
       "      <th>0</th>\n",
       "      <td>127.765599</td>\n",
       "    </tr>\n",
       "    <tr>\n",
       "      <th>1</th>\n",
       "      <td>525.307171</td>\n",
       "    </tr>\n",
       "    <tr>\n",
       "      <th rowspan=\"2\" valign=\"top\">1</th>\n",
       "      <th>0</th>\n",
       "      <td>43.740838</td>\n",
       "    </tr>\n",
       "    <tr>\n",
       "      <th>1</th>\n",
       "      <td>450.619175</td>\n",
       "    </tr>\n",
       "  </tbody>\n",
       "</table>\n",
       "</div>"
      ],
      "text/plain": [
       "                            weight\n",
       "married masc_self_rate            \n",
       "0       0               127.765599\n",
       "        1               525.307171\n",
       "1       0                43.740838\n",
       "        1               450.619175"
      ]
     },
     "execution_count": 4,
     "metadata": {},
     "output_type": "execute_result"
    }
   ],
   "source": [
    "d.groupby([\"married\",\"masc_self_rate\"]).agg({\"weight\": sum})"
   ]
  },
  {
   "cell_type": "markdown",
   "metadata": {},
   "source": [
    "Among the unmarried, the likelihood or _risk_ of self-reporting as somewhat/very masculine is (count of married who self-report as hi-masc) divided by (count of marrieds), which the table shows to be about 695/(695+177).\n",
    "Similarly for the married. These are the two ratios to compare.\n",
    "\n",
    "It is worth writing this down in general notation to make clear what the CMH statistic is doing.\n",
    "\n",
    "The table of possibilities, including married=no and high masculinity self-rate=yes, married=yes and high masculinity-self-rate=no, ... looks like this:\n",
    "\n",
    "|               |single     |  married  | \n",
    "|---------------|-----------:|-----------:|\n",
    "|  high  | h$_y$ m$_n$ | h$_y$ m$_y$ |\n",
    "|  low  | h$_n$ m$_n$ | h$_n$ m$_y$ |\n",
    "\n",
    "The risk of high self-rate given single is the chance of singles reporting as high masculinity over the chance that somebody is single: $$ \\frac{h_y m_n}{(h_y m_n + h_n m_n)}$$\n",
    "\n",
    "Similiarly for the chance that a married person self-rates as high masculinity. Then the risk ratio is indeed the ratio of the two risks. The numerator is the same as the denominator, but all $m_y$s instead of the $m_n$s in the denominator:\n",
    "\n",
    "$$ \\frac{\\frac{h_y m_y}{(h_y m_y + h_n m_y)}}{\\frac{h_y m_n}{(h_y m_n + h_n m_n)}}$$\n",
    "\n",
    "The denominator can be flipped to reduce this fraction-of-fractions to a more legible (and more useful) simple fraction:\n",
    "$$ \\frac{(h_y m_y)(h_y m_n + h_n m_n)}{(h_y m_n)(h_y m_y + h_n m_y)}$$\n",
    "\n",
    "\n",
    "The CMH calculation with no controls gives exactly that risk ratio:\n"
   ]
  },
  {
   "cell_type": "code",
   "execution_count": 5,
   "metadata": {
    "scrolled": true
   },
   "outputs": [
    {
     "name": "stdout",
     "output_type": "stream",
     "text": [
      "The risk of self-reporting as somehwat/very masculine for marrieds relative to singles: 1.1332209122528545\n"
     ]
    }
   ],
   "source": [
    "from cmh import cmh\n",
    "mar_to_masc = cmh(d, \"married\", \"masc_self_rate\", \"weight\", [])\n",
    "print(f\"The risk of self-reporting as somehwat/very masculine for marrieds relative to singles: {mar_to_masc}\")"
   ]
  },
  {
   "cell_type": "markdown",
   "metadata": {},
   "source": [
    "So, the married are about 13% more likely to self-report as somewhat/very masculine.\n",
    "\n",
    "The order of arguments to the `cmh` function are \"independent\" followed by \"dependent\"; picture an arrow `married → masc_self_rate`. Is it a measure of causality? That is for you to decide, because like all statistical measures, the CMH statistic advises but does not prove causality.\n",
    "\n",
    "We can ask the CMH calculator to be a little more verbose in how it did the math. It will present a table giving the total weight for dependent=yes and independent=yes (`dyiy`), then dependent=yes and independent=no (`dyin`), and so on. These numbers will match the crosstab above. The numerator and denominator of the un-compounded fraction above is also given."
   ]
  },
  {
   "cell_type": "code",
   "execution_count": 6,
   "metadata": {
    "scrolled": false
   },
   "outputs": [
    {
     "name": "stdout",
     "output_type": "stream",
     "text": [
      "Independent: married, dependent: masc_self_rate, controls: []\n",
      "         dyiy        dyin       dniy        dnin       weight      num  \\\n",
      "1                                                                        \n",
      "1  450.619175  525.307171  43.740838  127.765599  1147.432783  0.22352   \n",
      "\n",
      "        den  \n",
      "1            \n",
      "1  0.197243  \n",
      "The calculated CMH: 1.1332209122528545\n"
     ]
    }
   ],
   "source": [
    "print(f'The calculated CMH: {cmh(d, \"married\", \"masc_self_rate\", \"weight\", [], verbose=True)}')"
   ]
  },
  {
   "cell_type": "markdown",
   "metadata": {},
   "source": [
    "## Like the real world, the CMH is asymmetric"
   ]
  },
  {
   "cell_type": "markdown",
   "metadata": {},
   "source": [
    "The masculine → married and married → masculine questions are distinct and not necessarily numerically related. Indeed, the chance of being married given a self-report of higher masculinity, relative to those with a self-report of lower masculinity, is noticeably larger than the likelihood of self-reporting higher masculinity given being married, relative to single, at 81% versus 12%:"
   ]
  },
  {
   "cell_type": "code",
   "execution_count": 7,
   "metadata": {
    "scrolled": false
   },
   "outputs": [
    {
     "name": "stdout",
     "output_type": "stream",
     "text": [
      "\n",
      "masculinity self-rate → married\n",
      "1.8104475755260079\n",
      "\n"
     ]
    }
   ],
   "source": [
    "print(f\"\"\"\n",
    "masculinity self-rate → married\n",
    "{cmh(d, \"masc_self_rate\", \"married\", \"weight\", [])}\n",
    "\"\"\")"
   ]
  },
  {
   "cell_type": "markdown",
   "metadata": {},
   "source": [
    "To drive home the point about how asymmetric the CMH statistic can be, let's ask these two questions about self-reported masculinity and the second question \"How important is it to you that others see you as masculine?\":\n",
    "\n",
    "perception → masculinity:\n",
    "How does the chance of giving high importance to being perceived as masculine rise for those with high masculinity self-reports relative to others?\n",
    "\n",
    "\n",
    "and masculinity → perception: \n",
    "How does the chance of self-rating as somewhat/very masculine rise for those who report high importance to being perceived as masculine relative to others?"
   ]
  },
  {
   "cell_type": "code",
   "execution_count": 8,
   "metadata": {
    "scrolled": false
   },
   "outputs": [
    {
     "name": "stdout",
     "output_type": "stream",
     "text": [
      "\n",
      "perception → masculinity self-rate\n",
      "1.3901236173090672\n",
      "\n",
      "masculinity self-rate → perception\n",
      "1.9286459946184804\n",
      "\n"
     ]
    }
   ],
   "source": [
    "print(f\"\"\"\n",
    "perception → masculinity self-rate\n",
    "{cmh(d, \"perception_importance\", \"masc_self_rate\", \"weight\", [])}\n",
    "\n",
    "masculinity self-rate → perception\n",
    "{cmh(d, \"masc_self_rate\", \"perception_importance\", \"weight\", [])}\n",
    "\"\"\")"
   ]
  },
  {
   "cell_type": "markdown",
   "metadata": {},
   "source": [
    "So: men who care whether others perceive them as masculine are 39% more likely to self-report as masculine relative to people who don't perceive it as important.\n",
    "\n",
    "But men who self-report as high-masculinity are on the way to twice as likely to think that everybody else cares about this than people who don't self-report as high-masculinity."
   ]
  },
  {
   "cell_type": "markdown",
   "metadata": {},
   "source": [
    "## Controlling for confounding factors"
   ]
  },
  {
   "cell_type": "markdown",
   "metadata": {},
   "source": [
    "But there are all sorts of other issues. Maybe this is about having children. Married people are more likely to have kids, and maybe fathers feel more masculine.\n",
    "\n",
    "Above, the controls were empty (the last argument to the calls to `cmh` were `[]`), and the married → high-masculinity self-rate CMH was 113%. Let's control for kids. Now, the CMH calculation generates a row in its grouped table for those with kids and those without, and finds the elements of the risk ratio for both sets. Then the aggregate risk ratio is the sum of numerators over the sum of denominators."
   ]
  },
  {
   "cell_type": "code",
   "execution_count": 9,
   "metadata": {
    "scrolled": false
   },
   "outputs": [
    {
     "name": "stdout",
     "output_type": "stream",
     "text": [
      "Independent: married, dependent: masc_self_rate, controls: ['kids']\n",
      "                    dyiy        dyin       dniy        dnin      weight  \\\n",
      "kids                                                                      \n",
      "Has children  356.378401  201.500139  22.272502   23.115162  603.266204   \n",
      "No children    93.523366  322.633410  21.468335  103.605786  541.230897   \n",
      "\n",
      "                   num       den  \n",
      "kids                              \n",
      "Has children  0.115642  0.110224  \n",
      "No children   0.064189  0.059740  \n",
      "1.058050642996197\n"
     ]
    }
   ],
   "source": [
    "print(cmh(d, \"married\", \"masc_self_rate\", \"weight\", [\"kids\"], verbose=True))"
   ]
  },
  {
   "cell_type": "markdown",
   "metadata": {},
   "source": [
    "Indeed, the change in risk of self-reporting as somewhat/very masculine given married versus non-married is smaller—kids really did have an effect.\n",
    "\n",
    "It seems natural to reverse the story and ask how having kids affects self-report of masculinity, controlling for marriage.\n",
    "\n",
    "To do this, we need to account for a technical detail: above, we converted many columns of the data set to numbers, but did not do so with the \"has children\" column. The CMH function allows you to provide a function to evaluate whether the value of some column an observation has or does not have the property you are asking questions about. Here, the function is simple enough, `1 if kids==\"Has children\" else 0`, that we could have just done the text-to-number conversion above. But the facility is general enough that it can be used for less obvious situations.\n",
    "\n",
    "Back to the question at hand, controlling for marriage, the risk of self-reporting as masculine rises 15% as we shift from not having kids to having them:"
   ]
  },
  {
   "cell_type": "code",
   "execution_count": 10,
   "metadata": {
    "scrolled": true
   },
   "outputs": [
    {
     "name": "stdout",
     "output_type": "stream",
     "text": [
      "kids → high-masculinity self-rate, controlling for marital status:\n",
      "1.1746561745178334\n",
      "     \n",
      "high-masculinity self-rate → kids, controlling for marital status:\n",
      "1.8242351616259085\n",
      "\n"
     ]
    }
   ],
   "source": [
    "print(f\"\"\"kids → high-masculinity self-rate, controlling for marital status:\n",
    "{cmh(d, \"kids\", \"masc_self_rate\", \"weight\", [\"married\"],\n",
    "              indep_c=(lambda kids: 1 if kids==\"Has children\" else 0))}\n",
    "     \n",
    "high-masculinity self-rate → kids, controlling for marital status:\n",
    "{cmh(d, \"masc_self_rate\", \"kids\", \"weight\", [\"married\"],\n",
    "              dep_c=(lambda kids: 1 if kids==\"Has children\" else 0))}\n",
    "\"\"\")"
   ]
  },
  {
   "cell_type": "markdown",
   "metadata": {},
   "source": [
    "This is a survey of attitudes in the United States, so we have to take race into account. We can add race to the list of controls, so our controls are now `[\"race\", \"kids\"]`.\n",
    "\n",
    "Controlling for race has a minimal effect, but by producing a verbose aggregation table, we see why: the weighted survey is heavily White. The White-to-Asian ratio in the general U.S. population is about ten-to-one, and here is 23-to-one; similarly for other minorities. There are a lot of choices to be made in selecting survey weights, especially in a situation where only one weights column can be provided, and the designers chose weights that focus on other aspects, perhaps age or sexual orientation."
   ]
  },
  {
   "cell_type": "code",
   "execution_count": 11,
   "metadata": {
    "scrolled": true
   },
   "outputs": [
    {
     "name": "stdout",
     "output_type": "stream",
     "text": [
      "Independent: married, dependent: masc_self_rate, controls: ['kids', 'race']\n",
      "                             dyiy        dyin       dniy       dnin  \\\n",
      "kids         race                                                     \n",
      "Has children Asian       6.498116    4.043315   0.000000   0.000000   \n",
      "             Black      35.701493   34.346141   1.047586   8.643674   \n",
      "             Hispanic   56.601465   39.839144   0.495502   0.215332   \n",
      "             Other      14.644500   15.771335   1.708185   0.097685   \n",
      "             White     242.932826  107.500204  19.021230  14.158471   \n",
      "No children  Asian       0.248532   21.255771   1.889128   3.811718   \n",
      "             Black       3.045584   49.421789   0.000000  21.180150   \n",
      "             Hispanic   24.232309   43.663806   3.509484  15.419392   \n",
      "             Other       3.066757   13.747157   0.102593   1.027961   \n",
      "             White      62.930184  194.544887  15.967130  62.166563   \n",
      "\n",
      "                           weight       num       den  \n",
      "kids         race                                      \n",
      "Has children Asian      10.541431  0.002172  0.002172  \n",
      "             Black      79.738894  0.016775  0.013795  \n",
      "             Hispanic   97.151443  0.020338  0.020405  \n",
      "             Other      32.221705  0.006286  0.006976  \n",
      "             White     383.612732  0.067144  0.063976  \n",
      "No children  Asian      27.205149  0.000200  0.001456  \n",
      "             Black      73.647523  0.002544  0.001781  \n",
      "             Hispanic   86.824992  0.014371  0.012159  \n",
      "             Other      17.944468  0.002201  0.002116  \n",
      "             White     335.608764  0.041951  0.039859  \n",
      "\n",
      "Controlling for race and kids:\n",
      "1.0563919638333301\n",
      "\n",
      "Controlling only for kids:\n",
      "1.058050642996197\n",
      "\n"
     ]
    }
   ],
   "source": [
    "print(f\"\"\"\n",
    "Controlling for race and kids:\n",
    "{cmh(d, \"married\", \"masc_self_rate\", \"weight\", [\"race\", \"kids\"], verbose=True)}\n",
    "\n",
    "Controlling only for kids:\n",
    "{cmh(d, \"married\", \"masc_self_rate\", \"weight\", [\"kids\"])}\n",
    "\"\"\")"
   ]
  },
  {
   "cell_type": "markdown",
   "metadata": {},
   "source": [
    "In fact, if we do the same check only on rows of the data set where `d[\"race\"]==\"White\"`, almost nothing changes. Let's compare only Whites, everybody, then only non-Whites."
   ]
  },
  {
   "cell_type": "code",
   "execution_count": 12,
   "metadata": {
    "scrolled": true
   },
   "outputs": [
    {
     "name": "stdout",
     "output_type": "stream",
     "text": [
      "1.0506701948808865\n",
      "1.058050642996197\n",
      "1.0824741544054528\n"
     ]
    },
    {
     "name": "stderr",
     "output_type": "stream",
     "text": [
      "/usr/lib/python3.8/site-packages/pandas/core/indexing.py:494: SettingWithCopyWarning: \n",
      "A value is trying to be set on a copy of a slice from a DataFrame.\n",
      "Try using .loc[row_indexer,col_indexer] = value instead\n",
      "\n",
      "See the caveats in the documentation: http://pandas.pydata.org/pandas-docs/stable/user_guide/indexing.html#returning-a-view-versus-a-copy\n",
      "  self.obj[item] = s\n"
     ]
    }
   ],
   "source": [
    "print(cmh(d.loc[d[\"race\"]==\"White\"], \"married\", \"masc_self_rate\", \"weight\", [\"kids\"]))\n",
    "print(cmh(d, \"married\", \"masc_self_rate\", \"weight\", [\"kids\"]))\n",
    "print(cmh(d.loc[d[\"race\"]!=\"White\"], \"married\", \"masc_self_rate\", \"weight\", [\"kids\"]))"
   ]
  },
  {
   "cell_type": "markdown",
   "metadata": {},
   "source": [
    "Here is one last useful fact about the CMH statistic, a novel result proven in the migration paper linked at the top of this analysis, referred to there as _subset stability_.\n",
    "\n",
    "We broke the full population into two parts, White and non-White, and got two CMH statistics, and the aggregate CMH statistic was in between. That is, if I start with the married → high-masculinity self-rate CMH statistic, and then I tell you that the person is White, then you will adjust your expectation of the effect of married → masc downward for that case. If I tell you that the person is non-White, then you will adjust your expectations upward.\n",
    "\n",
    "This is extremely natural, and the above paper proves that the CMH statistic is the _only_ aggregate risk ratio among those admissible that guarantees this property. Without it, we would have the awkward situation where you could start with a baseline, and then I give you more information about the observation, and then you adjust upward no matter what I told you.\n",
    "\n",
    "That concludes the methodological part of this essay: the CMH statistic is an excellent option for asking questions about how variables relate, controlling for others. The controls are literal, comparing only those married with kids to others married with kids, and subset statistics have the stability property demonstrated by Whites/everybody/non-Whites. An appendix to the above paper lists several other manners in which the CMH statistic improves over correlation-based statistics like regression coefficients.\n",
    "\n",
    "Other issues, such as bootstrapping confidence intervals or using the lambdas to handle categorical data are omitted due to space considerations. There is also far more detail in the appendix of the above-linked paper."
   ]
  },
  {
   "cell_type": "markdown",
   "metadata": {},
   "source": [
    "In terms of masculinity and how it relates to other factors, let's knock out a few more statistics.\n",
    "\n",
    "Are people who mark themselves as high-masculinity more likely to be heterosexual?"
   ]
  },
  {
   "cell_type": "code",
   "execution_count": 13,
   "metadata": {},
   "outputs": [
    {
     "name": "stdout",
     "output_type": "stream",
     "text": [
      "\n",
      "non-heterosexual → importance of perception self-rate:\n",
      "0.8916424966482716\n",
      "     \n",
      "importance of perception → non-heterosexual \n",
      "0.7571845351822163\n",
      "\n"
     ]
    }
   ],
   "source": [
    "print(f\"\"\"\n",
    "non-heterosexual → importance of perception self-rate:\n",
    "{cmh(d, \"sexual_orientation\", \"perception_importance\", \"weight\", [\"married\", \"kids\"])}\n",
    "     \n",
    "importance of perception → non-heterosexual \n",
    "{cmh(d, \"perception_importance\", \"sexual_orientation\", \"weight\", [\"married\", \"kids\"])}\n",
    "\"\"\")"
   ]
  },
  {
   "cell_type": "markdown",
   "metadata": {},
   "source": [
    "Are men more likely to pay on a date when they self-report as masculine, or when they feel that being perceived as masculine is important?"
   ]
  },
  {
   "cell_type": "code",
   "execution_count": 14,
   "metadata": {},
   "outputs": [
    {
     "name": "stdout",
     "output_type": "stream",
     "text": [
      "\n",
      "perception → Often/always pays on dates\n",
      "1.4101662122101937\n",
      "\n",
      "masculinity self-rate → Often/always pays on dates\n",
      "1.5304566727171374\n",
      "\n",
      "Now repeat, with controls:\n",
      "\n",
      "perception → Often/always pays on dates, controlling for masculinity self-report\n",
      "1.2934765621776398\n",
      "\n",
      "masculinity self-rate → Often/always pays on dates, controlling for importance of perception\n",
      "1.365996146981868\n",
      "\n"
     ]
    }
   ],
   "source": [
    "pay_λ=lambda x: 1 if x==\"Always\" or x==\"Often\" else 0\n",
    "\n",
    "print(f\"\"\"\n",
    "perception → Often/always pays on dates\n",
    "{cmh(d, \"perception_importance\", \"pays_on_dates\", \"weight\", [], dep_c=pay_λ)}\n",
    "\n",
    "masculinity self-rate → Often/always pays on dates\n",
    "{cmh(d, \"masc_self_rate\", \"pays_on_dates\", \"weight\", [], dep_c=pay_λ)}\n",
    "\n",
    "Now repeat, with controls:\n",
    "\n",
    "perception → Often/always pays on dates, controlling for masculinity self-report\n",
    "{cmh(d, \"perception_importance\", \"pays_on_dates\", \"weight\", [\"masc_self_rate\"], dep_c=pay_λ)}\n",
    "\n",
    "masculinity self-rate → Often/always pays on dates, controlling for importance of perception\n",
    "{cmh(d, \"masc_self_rate\", \"pays_on_dates\", \"weight\", [\"perception_importance\"], dep_c=pay_λ)}\n",
    "\"\"\")"
   ]
  },
  {
   "cell_type": "markdown",
   "metadata": {},
   "source": [
    "The survey asked respondents whether being male had any advantages or disadvantages at work. Several options were given, but a large percentage marked _None_ for both questions. How do the likelihood of marking some non-none value change for high-masculinity self-raters versus others?"
   ]
  },
  {
   "cell_type": "code",
   "execution_count": 15,
   "metadata": {},
   "outputs": [
    {
     "name": "stdout",
     "output_type": "stream",
     "text": [
      "\n",
      "masculinity self-rate → Being male has advantages at work\n",
      "0.9143449984720041\n",
      "\n",
      "masculinity self-rate → Being male has disadvantages at work\n",
      "1.121007080521328\n",
      "\n"
     ]
    }
   ],
   "source": [
    "print(f\"\"\"\n",
    "masculinity self-rate → Being male has advantages at work\n",
    "{cmh(d, \"masc_self_rate\", \"advantage_at_work\", \"weight\", [])}\n",
    "\n",
    "masculinity self-rate → Being male has disadvantages at work\n",
    "{cmh(d, \"masc_self_rate\", \"disadvantage_at_work\", \"weight\", [])}\n",
    "\"\"\")"
   ]
  },
  {
   "cell_type": "markdown",
   "metadata": {},
   "source": [
    "PS for those of you not familiar with Jupyter: this is a living document. If you have cmh.py installed, you can modify the code to ask more questions, or compare the results to your favorite alternative measures of controlled relationships."
   ]
  }
 ],
 "metadata": {
  "kernelspec": {
   "display_name": "Python 3",
   "language": "python",
   "name": "python3"
  },
  "language_info": {
   "codemirror_mode": {
    "name": "ipython",
    "version": 3
   },
   "file_extension": ".py",
   "mimetype": "text/x-python",
   "name": "python",
   "nbconvert_exporter": "python",
   "pygments_lexer": "ipython3",
   "version": "3.8.6"
  }
 },
 "nbformat": 4,
 "nbformat_minor": 4
}
